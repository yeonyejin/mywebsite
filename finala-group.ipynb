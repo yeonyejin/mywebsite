{
  "cells": [
    {
      "cell_type": "raw",
      "metadata": {},
      "source": [
        "---\n",
        "title: \"출\"\n",
        "author: \"ㄱ 조 - 강남규 권효은 김연예진 김연진\"\n",
        "---"
      ],
      "id": "2139bcd6"
    },
    {
      "cell_type": "code",
      "metadata": {},
      "source": [
        "import pandas as pd\n",
        "import numpy as np\n",
        "\n",
        "df = pd.read_csv(\"bs.csv\")\n",
        "before_name = []\n",
        "after_name = []\n",
        "lst_mean12_19 = []\n",
        "\n",
        "df"
      ],
      "id": "7957c393",
      "execution_count": null,
      "outputs": []
    },
    {
      "cell_type": "markdown",
      "metadata": {},
      "source": [
        "원본 데이터 불러오기 및 리스트 초기화\n",
        "\n",
        "1. `before_name`: 변경 전 이름 List\n",
        "2. `after_name`: 변경 후 이름 List\n",
        "3. `lst_mean12_19`: 12 ~ 19년도 청년층의 시도별 모의 출산율 평균 Series List\n"
      ],
      "id": "6877cf1a"
    },
    {
      "cell_type": "code",
      "metadata": {},
      "source": [
        "for i in range(12, 23):\n",
        "  before_name.append(\"20\" + str(i))\n",
        "  before_name.append(\"20\" + str(i) + \".1\")\n",
        "  before_name.append(\"20\" + str(i) + \".2\")\n",
        "  before_name.append(\"20\" + str(i) + \".3\")\n",
        "  before_name.append(\"20\" + str(i) + \".4\")\n",
        "  before_name.append(\"20\" + str(i) + \".5\")\n",
        "  before_name.append(\"20\" + str(i) + \".6\")\n",
        "  after_name.append(str(i) + \"_1519\")\n",
        "  after_name.append(str(i) + \"_2024\")\n",
        "  after_name.append(str(i) + \"_2529\")\n",
        "  after_name.append(str(i) + \"_3034\")\n",
        "  after_name.append(str(i) + \"_3539\")\n",
        "  after_name.append(str(i) + \"_4044\")\n",
        "  after_name.append(str(i) + \"_4549\")\n",
        "\n",
        "print(\"before_name: \" + str(before_name) + \"\\n\" + \"after_name: \" + str(after_name))"
      ],
      "id": "8a98b940",
      "execution_count": null,
      "outputs": []
    },
    {
      "cell_type": "markdown",
      "metadata": {},
      "source": [
        "이름 변경을 위한 문자열 추가\n",
        "\n",
        "EX) \"2020\" → \"20_1519\": 20년도 15 ~ 19세\n",
        "\n",
        "\"2020.1\" → \"20_2024\": 20년도 20 ~ 24세\n"
      ],
      "id": "2a7b2eb0"
    },
    {
      "cell_type": "code",
      "metadata": {},
      "source": [
        "br = df.copy()\n",
        "br.drop(0, inplace = True)\n",
        "br.reset_index(drop = True, inplace = True)\n",
        "br"
      ],
      "id": "5d328f4e",
      "execution_count": null,
      "outputs": []
    },
    {
      "cell_type": "markdown",
      "metadata": {},
      "source": [
        "복사본 br을 만들고, 열을 통합하기 위해 0번 열을 제거함\n",
        "\n",
        "EX) 2020 + 15 ~ 19세 → 20_1519\n",
        "\n",
        "0번 열을 제거하여 1번부터 시작하므로, 추후 인덱싱 작업을 위해 `.reset_index`을 사용하여 재정렬\n"
      ],
      "id": "a9cf0099"
    },
    {
      "cell_type": "code",
      "metadata": {},
      "source": [
        "for i in range(0, len(before_name)):\n",
        "  br.rename(columns = {before_name[i] : after_name[i]}, inplace = True)\n",
        "\n",
        "print(br.head(5))"
      ],
      "id": "349c3781",
      "execution_count": null,
      "outputs": []
    },
    {
      "cell_type": "markdown",
      "metadata": {},
      "source": [
        "의미를 통합하기 위해, 전체 열의 이름을 변경\n",
        "\n",
        "`before_name`의 길이 만큼 구문을 반복 (`len(before_name) = 77`이므로, `i`에는 0에서 77까지의 수가 들어감)\n",
        "\n",
        "EX) br의 열 이름이 `before_name[0]`에서 `after_name[0]`으로 변경 \"2020\" → \"20_1519\"\n"
      ],
      "id": "9cdb790e"
    },
    {
      "cell_type": "code",
      "metadata": {},
      "source": [
        "br[after_name] = br[after_name].apply(pd.to_numeric)\n",
        "\n",
        "type(br[\"12_1519\"][6])"
      ],
      "id": "970cde31",
      "execution_count": null,
      "outputs": []
    },
    {
      "cell_type": "markdown",
      "metadata": {},
      "source": [
        "데이터의 타입이 문자열이므로, 계산을 위해 Type을 float64로 변경함\n"
      ],
      "id": "9dbd3b04"
    },
    {
      "cell_type": "code",
      "metadata": {},
      "source": [
        "br = br.assign(\n",
        "  mean20 = (br[\"20_2024\"] + br[\"20_2529\"] + br[\"20_3034\"]) / 3,\n",
        "  mean21 = (br[\"21_2024\"] + br[\"21_2529\"] + br[\"21_3034\"]) / 3,\n",
        "  mean22 = (br[\"22_2024\"] + br[\"22_2529\"] + br[\"22_3034\"]) / 3)\n",
        "  \n",
        "br.head(5)\n",
        "br"
      ],
      "id": "70e3db7d",
      "execution_count": null,
      "outputs": []
    },
    {
      "cell_type": "markdown",
      "metadata": {},
      "source": [
        "20 ~ 22년까지 최근 3년의 청년층(20 ~ 34세) 모의 연령별 출산율의 평균을 계산하여 열로 추가\n"
      ],
      "id": "de7d648c"
    },
    {
      "cell_type": "code",
      "metadata": {},
      "source": [
        "for i in range(0, 56, 7):\n",
        "  lst_mean12_19.append((br[after_name[i + 1]] + br[after_name[i + 2]] + br[after_name[i + 3]]) / 3)\n",
        "\n",
        "lst_mean12_19"
      ],
      "id": "36be17af",
      "execution_count": null,
      "outputs": []
    },
    {
      "cell_type": "markdown",
      "metadata": {},
      "source": [
        "2012 ~ 2019년까지의 청년층 평균은 중간 계산을 위한 데이터이므로, 열로 추가하지 않고 List로 보관 (각 요소는 Series)\n",
        "\n",
        "`range(0, 56, 7)` Start: 0, End: 55, Step: 7이므로 0, 7, 14, 21 ...이 `i`로 들어감\n",
        "\n",
        "1519, 2024, 2529, 3034, 3539, 4044, 4549 연령 구간이 총 7개이므로, `i`가 1519 인덱스에 있을 때 `i + 1`(2024), `i + 2`(2529) `i + 3`(3034)을 해야 청년층에 해당하는 이름을 가져올 수 있음\n",
        "\n",
        "처음 `i = 0`일 때 12년도를 계산하고, 다음 `i = 7`에서는 13년도 계산을 수행함\n",
        "\n",
        "EX) 12년도의 청년층 평균 계산: \"12_1519\" + \"12_2024\" + \"12_2529\" / 3\n",
        "\n",
        "결과로 나온 평균을 `lst_mean12_19` 리스트에 요소로 추가\n",
        "\n",
        "따라서, `lst_mean12_19`에는 **12 ~ 19년도 청년층의 시도별 모의 출산율 평균 Series List**가 들어 있음\n",
        "\n",
        "(`br[\"mean12\"]`, `br[\"mean13\"]`, `br[\"mean14\"]` ...에 해당하는 Series를 열로 추가하지 않고 리스트에 보관했다고 생각)\n"
      ],
      "id": "af9fd458"
    },
    {
      "cell_type": "code",
      "metadata": {},
      "source": [
        "for i in range(12, 20):\n",
        "  br[\"compare\" + str(i)] = np.where(lst_mean12_19[i - 12].mean() <= lst_mean12_19[i - 12], \"large\", \"small\")\n",
        "\n",
        "print(br.head(5))"
      ],
      "id": "71914895",
      "execution_count": null,
      "outputs": []
    },
    {
      "cell_type": "markdown",
      "metadata": {},
      "source": [
        "각 시도별 청년층 모의 출산율의 평균이 전국 청년층 평균과 비교하여 큰지 작은지 비교\n",
        "\n",
        "12 ~ 19년은 `lst_mean12_19` 리스트를 활용해 계산\n",
        "\n",
        "`range(12, 20)`으로 `i`에 12, 13, 14, ... 19가 들어감\n",
        "\n",
        "\"compare12\" ~ \"compare19\" 열을 추가하고, 시도별 평균과 전체 평균을 비교함\n",
        "\n",
        "EX) `i = 12`일 때\n",
        "    `lst_mean12_19[0].mean() <= lst_mean12_19[0]`: 12년도 전체 평균(숫자) <= 12년도 시도별 평균(Series)을 비교함\n"
      ],
      "id": "6dd4cc0b"
    },
    {
      "cell_type": "code",
      "metadata": {},
      "source": [
        "br[\"compare20\"] = np.where(br[\"mean20\"].mean() <= br[\"mean20\"], \"large\", \"small\")\n",
        "br[\"compare21\"] = np.where(br[\"mean21\"].mean() <= br[\"mean21\"], \"large\", \"small\")\n",
        "br[\"compare22\"] = np.where(br[\"mean22\"].mean() <= br[\"mean22\"], \"large\", \"small\")\n",
        "\n",
        "br.head(5)"
      ],
      "id": "011c68dd",
      "execution_count": null,
      "outputs": []
    },
    {
      "cell_type": "markdown",
      "metadata": {},
      "source": [
        "최근 3년의 평균은 List가 아닌 DataFrame의 열로 가지고 있으므로, 추출하여 비교 계산\n"
      ],
      "id": "90c7e614"
    },
    {
      "cell_type": "code",
      "metadata": {},
      "source": [
        "br"
      ],
      "id": "07a9da8c",
      "execution_count": null,
      "outputs": []
    },
    {
      "cell_type": "markdown",
      "metadata": {},
      "source": [
        "전국 모의 연령별 출산율을 비교하기 위해 iloc 함수를 이용하여 0번째 행만 추출\n",
        "데이터프레임으로 제대로 나왔는지 확인하기 위해 type()을 사용\n",
        "2020년부터 2022년까지 지난 3년치 데이터를 한 번에 묶어 청년과 비청년 출산율을 비교하려고 함\n",
        "그래서 2020 ~ 2022년도까지의 데이터를 추출하기 위해 iloc 함수를 사용\n",
        "해당 데이터가 어느 열에 있는지 확인하기 위해 br2.info() 사용용\n",
        "그 후 행은 그대로 출력하고 열은 57번째 78번째까지 데이터 추출\n"
      ],
      "id": "3a37822c"
    },
    {
      "cell_type": "code",
      "metadata": {},
      "source": [
        "br2 = br.iloc[[0]]\n",
        "type(br2[\"21_2024\"][0])\n",
        "br2.info()\n",
        "br2 = br2.iloc[:, 57:78] # 20-22년도 데이터 추출\n",
        "\n",
        "\n",
        "br2"
      ],
      "id": "be1f6910",
      "execution_count": null,
      "outputs": []
    },
    {
      "cell_type": "markdown",
      "metadata": {},
      "source": [
        "보기 쉽게 만들기 위해 행렬을 뒤집는 transpose 함수 사용\n"
      ],
      "id": "0ab80efa"
    },
    {
      "cell_type": "code",
      "metadata": {},
      "source": [
        "br2 = br2.transpose()\n",
        "br2"
      ],
      "id": "b5a2fe60",
      "execution_count": null,
      "outputs": []
    },
    {
      "cell_type": "markdown",
      "metadata": {},
      "source": [
        "0으로 되어 있던 변수를 모의 연령별출산율을 의미하는 birth_rate로 표시\n",
        "맨 첫 번째 열 이름이 지정되어 있지 않아서 year이라는 변수로 지정하기 위해 reset_index 사용\n",
        "rest_index 사용시 기존의 인덱스가 새로운 열로 추가되고, 새로운 기본 인덱스가 생성됨\n"
      ],
      "id": "8a965cb4"
    },
    {
      "cell_type": "code",
      "metadata": {},
      "source": [
        "br2 = br2.rename(columns = {0 : 'birth_rate'})\n",
        "br2 = br2.rename_axis(columns = {'' : 'year'}, index = None)\n",
        "br2\n",
        "br2 = br2.reset_index().rename(columns={'index': 'year'})"
      ],
      "id": "991172b9",
      "execution_count": null,
      "outputs": []
    },
    {
      "cell_type": "markdown",
      "metadata": {},
      "source": [
        "청년층과 비청년층을 구분하고자 조건에 따라 값을 선택할 수 있는 np.where 함수  사용\n",
        "number라는 변수에 청년층 (20-34세) 데이터를 1로 할당하고 그렇지 않은 경우 2로 할당\n"
      ],
      "id": "07502a8b"
    },
    {
      "cell_type": "code",
      "metadata": {},
      "source": [
        "br2['number'] = np.where(br2['year']\\\n",
        "                  .isin(['20_2024', '20_2529', '20_3034', '21_2024', '21_2529', '21_3034', '22_2024', '22_2529', '22_3034']), 1, 2)\n",
        "br2\n"
      ],
      "id": "35dc5522",
      "execution_count": null,
      "outputs": []
    },
    {
      "cell_type": "markdown",
      "metadata": {},
      "source": [
        "number라는 변수를 생성하여 청년을 1로, 비청년을 2로 표시\n",
        "따라서 청년층의 출산율을 알아보기 위해서는 br2 데이터에서 number == 1를 추출하여 평균을 구함\n",
        "비청년도 같은 방식으로 진행\n",
        "\n",
        "결과값:\n",
        "2020년부터 2022년도까지의 청년(20-34) 모의 출산율: 36.211,\n",
        "2020년부터 2022년도까지의 비청년(15-19, 35-49) 모의 출산율: 12.891\n"
      ],
      "id": "57ed20ac"
    },
    {
      "cell_type": "code",
      "metadata": {},
      "source": [
        "br2_youth_rate = br2.query('number == 1')['birth_rate'].mean()\n",
        "br2_non_youth_rate = br2.query('number == 2')['birth_rate'].mean()\n",
        "\n",
        "br2_youth_rate\n",
        "br2_non_youth_rate"
      ],
      "id": "c88e0fa0",
      "execution_count": null,
      "outputs": []
    },
    {
      "cell_type": "markdown",
      "metadata": {},
      "source": [
        "20-22와 같은 코드로 12-14년도 청년층과 비청년층 출산율 비교\n"
      ],
      "id": "7f6e487d"
    },
    {
      "cell_type": "code",
      "metadata": {},
      "source": [
        "br3= br.iloc[:, 1:21] ## 12-14년도 데이터 추출\n",
        "br3 = br3.iloc[[0]]\n",
        "br3\n",
        "\n",
        "br3 = br3.transpose()\n",
        "br3.info\n",
        "br3\n",
        "\n",
        "br3 = br3.rename(columns = {0 : 'birth_rate'})\n",
        "br3 = br3.rename_axis(columns = {'' : 'year'}, index = None)\n",
        "br3\n",
        "br3 = br3.reset_index().rename(columns={'index': 'year'})\n",
        "\n",
        "br3['number'] = np.where(br3['year']\\\n",
        "                  .isin(['12_2024', '12_2529', '12_3034', '13_2024', '13_2529', '13_3034', '14_2024', '14_2529', '14_3034']), '1', '2')\n",
        "br3\n",
        "\n",
        "br3.info()\n",
        "br3['number'] = br3['number'].apply(pd.to_numeric)\n",
        "br3\n",
        "\n",
        "br3_youth_rate = br3.query('number == 1')['birth_rate'].mean()\n",
        "br3_non_youth_rate = br3.query('number == 2')['birth_rate'].mean()\n",
        "\n",
        "br3_youth_rate\n",
        "br3_non_youth_rate"
      ],
      "id": "cd2d2c0b",
      "execution_count": null,
      "outputs": []
    },
    {
      "cell_type": "markdown",
      "metadata": {},
      "source": [
        "12-14년도와 20-22년도도 청년층과 비청년층의 출산율 비교를 위해 막대 그래프로 표현을 했음.\n",
        "X축에 분류 기준을 입력한 후, y 축에는 출생율 평균을 넣었음. \n"
      ],
      "id": "88d43643"
    },
    {
      "cell_type": "code",
      "metadata": {},
      "source": [
        "import matplotlib.pyplot as plt\n",
        "import seaborn as sns\n",
        "\n",
        "sns.barplot(x=['12_14Youth', '20_22Youth','12_14Non-Youth', '20_22Non-Youth'], y=[br3_youth_rate,br2_youth_rate, br3_non_youth_rate, br2_non_youth_rate])\n",
        "plt.xlabel('Age Group', fontsize=12)\n",
        "plt.ylabel('Mean Birth Rate', fontsize=12)\n",
        "plt.title('12-14/20-22 Mean Birth Rate Comparison', fontsize=15)\n",
        "plt.show()\n"
      ],
      "id": "60c0bebb",
      "execution_count": null,
      "outputs": []
    },
    {
      "cell_type": "markdown",
      "metadata": {},
      "source": [
        "지금 청년층의 출산율이 낮아지는데 지역별로 청년층의 출산율 감소 근황을 보자\n",
        "\n",
        "**\n"
      ],
      "id": "e772b3b4"
    },
    {
      "cell_type": "code",
      "metadata": {},
      "source": [
        "br[['시군구별', \"mean20\"]].sort_values(\"mean20\", ascending = False).head()\n",
        "br[['시군구별', \"mean21\"]].sort_values(\"mean21\", ascending = False).head()\n",
        "br[['시군구별', \"mean22\"]].sort_values(\"mean22\", ascending = False).head()\n",
        "\n",
        "br[['시군구별', \"mean20\"]].sort_values(\"mean20\").head()\n",
        "br[['시군구별', \"mean21\"]].sort_values(\"mean21\").head()\n",
        "br[['시군구별', \"mean22\"]].sort_values(\"mean22\").head()"
      ],
      "id": "b3c6a5b2",
      "execution_count": null,
      "outputs": []
    },
    {
      "cell_type": "markdown",
      "metadata": {},
      "source": [
        "**각 도시 청년층의 평균모의출산율 그래프**\n",
        "20년도\n"
      ],
      "id": "6ab2d054"
    },
    {
      "cell_type": "code",
      "metadata": {},
      "source": [
        "import matplotlib.pyplot as plt\n",
        "plt.clf()\n",
        "br[\"mean20\"].plot.bar()\n",
        "plt.show()"
      ],
      "id": "e8ac4ba9",
      "execution_count": null,
      "outputs": []
    },
    {
      "cell_type": "markdown",
      "metadata": {},
      "source": [
        "21년도"
      ],
      "id": "01478ec7"
    },
    {
      "cell_type": "code",
      "metadata": {},
      "source": [
        "import matplotlib.pyplot as plt\n",
        "plt.clf()\n",
        "br[\"mean21\"].plot.bar()\n",
        "plt.show()\n"
      ],
      "id": "5ee46517",
      "execution_count": null,
      "outputs": []
    },
    {
      "cell_type": "markdown",
      "metadata": {},
      "source": [
        "22년도"
      ],
      "id": "61a0d8fd"
    },
    {
      "cell_type": "code",
      "metadata": {},
      "source": [
        "import matplotlib.pyplot as plt\n",
        "plt.clf()\n",
        "br[\"mean22\"].plot.bar()\n",
        "\n",
        "\n",
        "\n",
        "\n",
        "import seaborn as sns\n",
        "sns.barplot(data = br[['시군구별', \"mean20\"]], x= '시군구별', y = 'mean20', rot=0 )\n",
        "plt.rcParams.update({'font.family' : 'Malgun Gothic'})\n",
        "plt.show()\n",
        "\n",
        "\n",
        "\n",
        "\n",
        "br5=br[['시군구별', \"mean20\"]].sort_values(\"mean20\", ascending = False)\n",
        "br5_1=br[['시군구별', \"mean21\"]].sort_values(\"mean21\", ascending = False).head()\n",
        "br5_2=br[['시군구별', \"mean22\"]].sort_values(\"mean22\", ascending = False).head()\n",
        "\n",
        "br[['시군구별', \"mean20\"]].sort_values(\"mean20\")\n",
        "br6_1=br[['시군구별', \"mean21\"]].sort_values(\"mean21\").head()\n",
        "br6_2=br[['시군구별', \"mean22\"]].sort_values(\"mean22\")\n",
        "\n",
        "project_a = pd.DataFrame(br5)\n",
        "project_a\n",
        "project_a = project_a.reset_index()\n",
        "project_a\n",
        "import matplotlib.pyplot as plt\n",
        "import seaborn as sns\n",
        "br[\"mean21\"].plot.bar()\n",
        "plt.show()\n",
        "\n",
        "\n",
        "\n",
        "sns.barplot(x=['시군구별별'], y=[br3_youth_rate,br2_youth_rate, br3_non_youth_rate, br2_non_youth_rate])\n"
      ],
      "id": "8eb44760",
      "execution_count": null,
      "outputs": []
    }
  ],
  "metadata": {
    "kernelspec": {
      "name": "python3",
      "language": "python",
      "display_name": "Python 3 (ipykernel)"
    }
  },
  "nbformat": 4,
  "nbformat_minor": 5
}