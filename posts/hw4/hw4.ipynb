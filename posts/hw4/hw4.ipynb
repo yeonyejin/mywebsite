{
  "cells": [
    {
      "cell_type": "raw",
      "metadata": {},
      "source": [
        "---\n",
        "title: hw4\n",
        "---"
      ],
      "id": "2094bbce"
    },
    {
      "cell_type": "markdown",
      "metadata": {},
      "source": [
        "## 숙제 Qmd\n",
        "#숙제1번 import scipy.stat import norm 사용금지\n",
        "# 1. 정규분포 pdf 값을 계산하는 자신만의 \n",
        "# 파이썬 함수를 정의하고,\n",
        "# 정규분포 mu = 3, sigma = 2 의 pdf를 그릴 것."
      ],
      "id": "632d43a4"
    },
    {
      "cell_type": "code",
      "metadata": {},
      "source": [
        "import numpy as np\n",
        "import matplotlib.pyplot as plt\n",
        "import math\n",
        "\n",
        "\n",
        "def my_pdf (x, mu, sigma):\n",
        "    part_1 = 1 / (sigma * math.sqrt(2 * math.pi))\n",
        "    part_2 = math.exp(-0.5 * ((x - mu) ** 2) / (sigma ** 2))\n",
        "    return part_1 * part_2\n",
        "\n",
        "mu = 3\n",
        "sigma = 2\n",
        "\n",
        "x_values=np.linspace(-10, 10, 100)\n",
        "plt.plot(x_values, pdf_values, color=\"black\")\n",
        "pdf_values = [my_pdf(x, mu, sigma) for x in x_values]\n",
        "\n",
        "plt.show()"
      ],
      "id": "8783507f",
      "execution_count": null,
      "outputs": []
    },
    {
      "cell_type": "markdown",
      "metadata": {},
      "source": [
        "# 2. 파이썬 scipy 패키지 사용해서 다음과 같은 확률을 구하시오.\n",
        "# X ~ N(2, 3^2)\n",
        "\n",
        "# 1) P(X < 3)"
      ],
      "id": "43b8114a"
    },
    {
      "cell_type": "code",
      "metadata": {},
      "source": [
        "from scipy.stats import binom\n",
        "from scipy.stats import norm\n",
        "norm.cdf(3, 2, 3) "
      ],
      "id": "7fee9016",
      "execution_count": null,
      "outputs": []
    },
    {
      "cell_type": "markdown",
      "metadata": {},
      "source": [
        "# 2) P(2< X < 5)"
      ],
      "id": "c152a55b"
    },
    {
      "cell_type": "code",
      "metadata": {},
      "source": [
        "norm.cdf(5, 2, 3) - norm.cdf(2,2,3)"
      ],
      "id": "020fe67f",
      "execution_count": null,
      "outputs": []
    },
    {
      "cell_type": "markdown",
      "metadata": {},
      "source": [
        "# 3) P(X < 3 or X > 7)"
      ],
      "id": "c15a4a8b"
    },
    {
      "cell_type": "code",
      "metadata": {},
      "source": [
        "norm.cdf(3,2,3)+(1-norm.cdf(7,2,3))"
      ],
      "id": "ce90f5f8",
      "execution_count": null,
      "outputs": []
    },
    {
      "cell_type": "markdown",
      "metadata": {},
      "source": [
        "# 3. LS 빅데이터 스쿨 학생들의 중간고사 점수는\n",
        "# 평균이 30이고, 분산이 4인 정규분포를 따른다.\n",
        "# 상위 5%에 해당하는 학생의 점수는?"
      ],
      "id": "a0b7b120"
    },
    {
      "cell_type": "code",
      "metadata": {},
      "source": [
        "import scipy.stats as stats\n",
        "data = stats.norm(loc=30, scale=2)\n",
        "data.ppf(0.95)\n"
      ],
      "id": "818be3b8",
      "execution_count": null,
      "outputs": []
    }
  ],
  "metadata": {
    "kernelspec": {
      "name": "python3",
      "language": "python",
      "display_name": "Python 3 (ipykernel)"
    }
  },
  "nbformat": 4,
  "nbformat_minor": 5
}